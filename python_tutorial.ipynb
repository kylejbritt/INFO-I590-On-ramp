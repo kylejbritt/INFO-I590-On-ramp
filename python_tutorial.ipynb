{
 "cells": [
  {
   "cell_type": "markdown",
   "metadata": {},
   "source": [
    "# Running python in terminal"
   ]
  },
  {
   "cell_type": "markdown",
   "metadata": {},
   "source": [
    "After installing Python on your system successfully, you can start the interactive Python prompt by typing <python> in the command line and pressing <Enter>. It will show you some context information about Python similar to this:\n",
    "<img src=\"files/1.jpg\" width=\"80%\">"
   ]
  },
  {
   "cell_type": "markdown",
   "metadata": {
    "collapsed": false
   },
   "source": [
    "On windows, you can start python default interpreter throuth the Start Menu.\n",
    "To exit Python, just press Ctrl-D in your terminal.\n",
    "To run a python script, type the following command in your terminal:"
   ]
  },
  {
   "cell_type": "markdown",
   "metadata": {
    "collapsed": false
   },
   "source": [
    "python your-python-script.py"
   ]
  },
  {
   "cell_type": "markdown",
   "metadata": {
    "collapsed": true
   },
   "source": [
    "Below, we are going to learn python basics in Ipython notebook, which is a powerful interactive computational environment that allow you to combine code execution, rich text and  math formula together. You can have a taste through this notebook.\n",
    "\n",
    "Be noted that, you can also excute all the following python code in its default interpreter.\n",
    "\n",
    "Let's get started!"
   ]
  },
  {
   "cell_type": "markdown",
   "metadata": {},
   "source": [
    "# ipython notebook"
   ]
  },
  {
   "cell_type": "markdown",
   "metadata": {},
   "source": [
    "Basic operation\n",
    "    1. control+return\n",
    "        To excute the current code block and stay in the same block.\n",
    "    2. shift+return\n",
    "        To excute the current code block and select the next block. \n",
    "        The result will be displayed directly below this block.\n",
    "    3. Please note that Only those blocks which begin with \"In []\" are code blocks.\n",
    "    4. In the following code, you should excute all the blocks to have a try."
   ]
  },
  {
   "cell_type": "markdown",
   "metadata": {},
   "source": [
    "#Variable"
   ]
  },
  {
   "cell_type": "code",
   "execution_count": 11,
   "metadata": {
    "collapsed": false
   },
   "outputs": [
    {
     "name": "stdout",
     "output_type": "stream",
     "text": [
      "4950\n"
     ]
    }
   ],
   "source": [
    "total = 0\n",
    "for i in range(100):\n",
    "    total = total + i\n",
    "print total"
   ]
  },
  {
   "cell_type": "code",
   "execution_count": 10,
   "metadata": {
    "collapsed": false
   },
   "outputs": [
    {
     "name": "stdout",
     "output_type": "stream",
     "text": [
      "4950\n"
     ]
    }
   ],
   "source": [
    "# this defines a comment, which will be ignored by python interpreter. It makes your code more\n",
    "# readable to others.\n",
    "# a more efficient way\n",
    "nums = range(100)\n",
    "print sum(nums)"
   ]
  },
  {
   "cell_type": "code",
   "execution_count": 12,
   "metadata": {
    "collapsed": false
   },
   "outputs": [
    {
     "name": "stdout",
     "output_type": "stream",
     "text": [
      "4950\n"
     ]
    }
   ],
   "source": [
    "# a even more succinct way\n",
    "print sum(range(100))"
   ]
  },
  {
   "cell_type": "code",
   "execution_count": 13,
   "metadata": {
    "collapsed": false
   },
   "outputs": [
    {
     "name": "stdout",
     "output_type": "stream",
     "text": [
      "I am int division 6\n",
      "I am float division with more precise 6.66666666667\n"
     ]
    }
   ],
   "source": [
    "# integer and float\n",
    "int_a = 20\n",
    "float_b = 3.0\n",
    "int_b = 3\n",
    "print \"I am int division\", int_a/int_b\n",
    "print \"I am float division with more precise\", int_a/float_b"
   ]
  },
  {
   "cell_type": "markdown",
   "metadata": {},
   "source": [
    "#Loop"
   ]
  },
  {
   "cell_type": "code",
   "execution_count": 5,
   "metadata": {
    "collapsed": false
   },
   "outputs": [
    {
     "name": "stdout",
     "output_type": "stream",
     "text": [
      "Alice is a bad guy\n",
      "Bob is a bad guy\n",
      "Hao is a bad guy\n"
     ]
    }
   ],
   "source": [
    "names = ['Alice', 'Bob', 'Hao']\n",
    "for name in names:\n",
    "    print name + ' is a bad guy'"
   ]
  },
  {
   "cell_type": "markdown",
   "metadata": {},
   "source": [
    "#Condition"
   ]
  },
  {
   "cell_type": "code",
   "execution_count": 9,
   "metadata": {
    "collapsed": false
   },
   "outputs": [
    {
     "name": "stdout",
     "output_type": "stream",
     "text": [
      "Alice is a bad guy\n",
      "Bob is a bad guy\n",
      "Hao is a good guy, I like it\n"
     ]
    }
   ],
   "source": [
    "for n in names:\n",
    "    if(n.startswith('H')):\n",
    "        print n + ' is a good guy, I like it'\n",
    "    else:\n",
    "        print n + ' is a bad guy'"
   ]
  },
  {
   "cell_type": "markdown",
   "metadata": {},
   "source": [
    "#Function"
   ]
  },
  {
   "cell_type": "code",
   "execution_count": 17,
   "metadata": {
    "collapsed": false
   },
   "outputs": [
    {
     "name": "stdout",
     "output_type": "stream",
     "text": [
      "error! score greater than 100! Don't cheat!\n",
      "your score is:  99 , you are in level:  A\n",
      "your score is:  85 , you are in level:  B\n",
      "your score is:  80 , you are in level:  C\n"
     ]
    }
   ],
   "source": [
    "# define your own function using def as keywords.\n",
    "def grade(score):\n",
    "    level = ['A', 'B', 'C']\n",
    "    if(score > 100):\n",
    "        print \"error! score greater than 100! Don't cheat!\"\n",
    "    # elif short for else if\n",
    "    elif(score > 90):\n",
    "        # the first element in a list is index from 1.\n",
    "        print \"your score is: \", score, \", you are in level: \", level[0]\n",
    "    elif(score > 80):\n",
    "        print \"your score is: \", score, \", you are in level: \", level[1]\n",
    "    else:\n",
    "        print \"your score is: \", score, \", you are in level: \", level[2]\n",
    "    \n",
    "# now call and test your function\n",
    "grade(110)\n",
    "grade(99)\n",
    "grade(85)\n",
    "grade(80)"
   ]
  },
  {
   "cell_type": "markdown",
   "metadata": {},
   "source": [
    "#String"
   ]
  },
  {
   "cell_type": "code",
   "execution_count": 17,
   "metadata": {
    "collapsed": false
   },
   "outputs": [
    {
     "name": "stdout",
     "output_type": "stream",
     "text": [
      "<type 'str'>\n",
      "hello world!\n",
      "h e l l o   w o r l d !  , this string has 12 characters, including space\n",
      "\n",
      "!dlrow olleh\n",
      "!dlrow olleh\n"
     ]
    }
   ],
   "source": [
    "line = \"hello world!\"\n",
    "# inspect what's the type of this variable.\n",
    "print type(line)\n",
    "print line\n",
    "count = 0\n",
    "for char in line:\n",
    "    # using a comma to print all char in a line.\n",
    "    print char,\n",
    "    count += 1\n",
    "# after the loop, print a new line using charater '\\n'.\n",
    "print ' , this string has', count, 'characters, including space\\n'\n",
    "# reverse a string\n",
    "print ''.join(reversed(line))\n",
    "# more efficient way\n",
    "print line[::-1]\n",
    "\n",
    "# below is another kind of comment. It is called block comment.\n",
    "'''\n",
    "For any function you don't know about a object, You can get its type first by calling type()\n",
    "function like above. Then you can type [e.g. help(str)] in python interpreter. It will display\n",
    "the usage of all build-in functions defined on that specific object.\n",
    "'''"
   ]
  },
  {
   "cell_type": "markdown",
   "metadata": {},
   "source": [
    "#List"
   ]
  },
  {
   "cell_type": "code",
   "execution_count": 35,
   "metadata": {
    "collapsed": false
   },
   "outputs": [
    {
     "name": "stdout",
     "output_type": "stream",
     "text": [
      "['Today', 'we', 'are', 'going', 'to', 'do', 'some', 'fun', 'stuff', 'with', 'python', 'python', 'and', 'python!', 'we', 'love', 'it', 'it']\n",
      "\n",
      "There are 18 words in my list\n",
      "\n",
      "set(['and', 'do', 'we', 'stuff', 'love', 'python', 'python!', 'some', 'it', 'to', 'going', 'are', 'fun', 'with', 'Today'])\n",
      "\n",
      "True\n",
      "True\n"
     ]
    }
   ],
   "source": [
    "# declare a new list\n",
    "line = \"Today we are going to do some fun stuff with python python and python! we love it it\"\n",
    "my_list = []\n",
    "for word in line.split():\n",
    "    my_list.append(word)\n",
    "print my_list\n",
    "print\n",
    "print 'There are',      len(my_list),           'words in my list\\n'\n",
    "# remove duplicates\n",
    "my_set = set(my_list)\n",
    "print my_set\n",
    "print\n",
    "print my_set.__contains__('python')\n",
    "print 'python' in my_set"
   ]
  },
  {
   "cell_type": "markdown",
   "metadata": {},
   "source": [
    "#Dict"
   ]
  },
  {
   "cell_type": "code",
   "execution_count": 40,
   "metadata": {
    "collapsed": false
   },
   "outputs": [
    {
     "name": "stdout",
     "output_type": "stream",
     "text": [
      "{'and': 1, 'computing': 1, 'developed': 1, 'is': 1, 'tab': 1, 'in': 1, 'IPython': 2, 'for': 2, 'Python': 1, 'media,': 1, 'offers': 1, 'rich': 1, 'features.': 1, 'shell': 2, 'multiple': 1, 'provides': 1, 'that': 1, 'history.': 1, 'introspection,': 1, 'completion,': 1, 'a': 1, 'language': 1, 'originally': 1, 'programming': 2, 'language,': 1, 'syntax,': 1, 'command': 1, 'following': 1, 'the': 2, 'interactive': 1}\n"
     ]
    }
   ],
   "source": [
    "from collections import defaultdict\n",
    "# we can use backslash to display a string in multiple lines.\n",
    "text = 'IPython is a command shell for interactive computing in multiple programming \\\n",
    "language , originally developed for the Python programming language, , that offers \\\n",
    "introspection, rich media, shell syntax, ! , tab completion, and history. IPython provides \\\n",
    "the following features. . .'\n",
    "word_freq = dict()\n",
    "punctuations = [',', '.', '!', ';']\n",
    "for word in text.split():\n",
    "    # filter punctuations\n",
    "    if(word not in punctuations):\n",
    "        if(word not in word_freq):\n",
    "            word_freq[word] = 1\n",
    "        else:\n",
    "            word_freq[word] += 1\n",
    "print word_freq"
   ]
  },
  {
   "cell_type": "markdown",
   "metadata": {},
   "source": [
    "In the above code, we build a dict to compute the word frequence given a arbitrary sentence. However, you may find that it doen't work perfectly. e.g. it regard 'language,' and 'languare' as two different words.\n",
    "\n",
    "That's because our 'str.split()' function splits a string from 'space' character as default. Thus, 'language,' is regarded as a single word."
   ]
  },
  {
   "cell_type": "code",
   "execution_count": 42,
   "metadata": {
    "collapsed": false
   },
   "outputs": [
    {
     "name": "stdout",
     "output_type": "stream",
     "text": [
      "IPython is a command shell for interactive computing in multiple programming language  originally developed for the Python programming language  that offers introspection rich media shell syntax   tab completion and history IPython provides the following features  \n"
     ]
    }
   ],
   "source": [
    "# using build-in punctuations in string library\n",
    "import string\n",
    "exclude = set(string.punctuation)\n",
    "clean_text = ''.join(char for char in text if char not in exclude)\n",
    "print clean_text\n",
    "# after that, we can use the same way to get word frequences of this text."
   ]
  },
  {
   "cell_type": "markdown",
   "metadata": {},
   "source": [
    "We can also use regular expression to filter the punctuations first.\n",
    "As we will see later, regular expression is a more powerful tool to match any sequence in any pattern. It is widely used for information extraction in web crawlers."
   ]
  },
  {
   "cell_type": "markdown",
   "metadata": {},
   "source": [
    "#Regular expression in python\n",
    "\n",
    "we highly encourage you to look at these references first.\\n\n",
    "http://www.tutorialspoint.com/python/python_reg_expressions.htm \\n\n",
    "https://www.debuggex.com/cheatsheet/regex/python \\n\n",
    "https://docs.python.org/2/library/re.html \\n\n",
    "\n",
    "A quick cheet sheet:\n",
    "\n",
    " expression         match\n",
    "    .           Any character except newline\n",
    "    \\w          one word character\n",
    "    \\W          one non-word character\n",
    "    \\d          one digit\n",
    "    \\D          one non-digit\n",
    "    \\s          one whitespace\n",
    "    \\S          one non-whitespace\n",
    "    \n",
    " Quantifiers    number to match\n",
    "    *           0 or more\n",
    "    +           1 or more\n",
    "    ?           0 or 1\n",
    "    {3,6}       Between 3 and 6\n",
    "    {4}         exactly 4\n",
    "    "
   ]
  },
  {
   "cell_type": "code",
   "execution_count": 3,
   "metadata": {
    "collapsed": false
   },
   "outputs": [
    {
     "name": "stdout",
     "output_type": "stream",
     "text": [
      "IPython is a command shell for interactive computing in multiple programming language originally developed for the Python programming language that offers introspection rich media shell syntax tab completion and history IPython provides the following features \n"
     ]
    }
   ],
   "source": [
    "# we must import regex library before we use it.\n",
    "import re\n",
    "\n",
    "text = 'IPython is a command shell for interactive computing in multiple programming \\\n",
    "language , originally developed for the Python programming language, , that offers \\\n",
    "introspection, rich media, shell syntax, ! , tab completion, and history. IPython provides \\\n",
    "the following features. . .'\n",
    "\n",
    "# compile a regular expression you want to use, '\\W+' means to match 1 or more non-word character.\n",
    "# you can remove '+' to just use '\\W'. What's your result then? Have a try!\n",
    "pattern = re.compile('\\W+')\n",
    "clean_text = pattern.sub(' ', text)\n",
    "print clean_text\n"
   ]
  },
  {
   "cell_type": "code",
   "execution_count": null,
   "metadata": {
    "collapsed": true
   },
   "outputs": [],
   "source": [
    "phones = "
   ]
  }
 ],
 "metadata": {
  "kernelspec": {
   "display_name": "Python 2",
   "language": "python",
   "name": "python2"
  },
  "language_info": {
   "codemirror_mode": {
    "name": "ipython",
    "version": 2
   },
   "file_extension": ".py",
   "mimetype": "text/x-python",
   "name": "python",
   "nbconvert_exporter": "python",
   "pygments_lexer": "ipython2",
   "version": "2.7.10"
  }
 },
 "nbformat": 4,
 "nbformat_minor": 0
}
